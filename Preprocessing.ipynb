{
 "cells": [
  {
   "cell_type": "markdown",
   "metadata": {},
   "source": [
    "# Peripheral nervous system responses to food stimuli: Analysis using data mining"
   ]
  },
  {
   "cell_type": "markdown",
   "metadata": {},
   "source": [
    "# Data preprocessing"
   ]
  },
  {
   "cell_type": "markdown",
   "metadata": {},
   "source": [
    "## Data extraction"
   ]
  },
  {
   "cell_type": "code",
   "execution_count": 1,
   "metadata": {},
   "outputs": [],
   "source": [
    "import pandas as pd\n",
    "data = pd.read_excel('PsychophysioDataset.xlsx',\n",
    "              sheet_name='Psychophysio')\n"
   ]
  },
  {
   "cell_type": "code",
   "execution_count": 2,
   "metadata": {},
   "outputs": [
    {
     "data": {
      "text/html": [
       "<div>\n",
       "<style scoped>\n",
       "    .dataframe tbody tr th:only-of-type {\n",
       "        vertical-align: middle;\n",
       "    }\n",
       "\n",
       "    .dataframe tbody tr th {\n",
       "        vertical-align: top;\n",
       "    }\n",
       "\n",
       "    .dataframe thead th {\n",
       "        text-align: right;\n",
       "    }\n",
       "</style>\n",
       "<table border=\"1\" class=\"dataframe\">\n",
       "  <thead>\n",
       "    <tr style=\"text-align: right;\">\n",
       "      <th></th>\n",
       "      <th>Subject</th>\n",
       "      <th>Stimulus</th>\n",
       "      <th>Latency</th>\n",
       "      <th>Rise-Time</th>\n",
       "      <th>Amplitude</th>\n",
       "      <th>Events</th>\n",
       "      <th>Pleasantness</th>\n",
       "    </tr>\n",
       "  </thead>\n",
       "  <tbody>\n",
       "    <tr>\n",
       "      <th>0</th>\n",
       "      <td>1</td>\n",
       "      <td>1</td>\n",
       "      <td>2.980469</td>\n",
       "      <td>3.011719</td>\n",
       "      <td>0.197369</td>\n",
       "      <td>1.0</td>\n",
       "      <td>5</td>\n",
       "    </tr>\n",
       "    <tr>\n",
       "      <th>1</th>\n",
       "      <td>1</td>\n",
       "      <td>2</td>\n",
       "      <td>1.886719</td>\n",
       "      <td>6.468750</td>\n",
       "      <td>0.911881</td>\n",
       "      <td>2.0</td>\n",
       "      <td>4</td>\n",
       "    </tr>\n",
       "    <tr>\n",
       "      <th>2</th>\n",
       "      <td>1</td>\n",
       "      <td>3</td>\n",
       "      <td>2.085938</td>\n",
       "      <td>4.746094</td>\n",
       "      <td>0.273287</td>\n",
       "      <td>1.0</td>\n",
       "      <td>0</td>\n",
       "    </tr>\n",
       "    <tr>\n",
       "      <th>3</th>\n",
       "      <td>1</td>\n",
       "      <td>4</td>\n",
       "      <td>1.699219</td>\n",
       "      <td>4.515625</td>\n",
       "      <td>0.618691</td>\n",
       "      <td>-2.0</td>\n",
       "      <td>5</td>\n",
       "    </tr>\n",
       "    <tr>\n",
       "      <th>4</th>\n",
       "      <td>1</td>\n",
       "      <td>5</td>\n",
       "      <td>0.800781</td>\n",
       "      <td>3.437500</td>\n",
       "      <td>0.083031</td>\n",
       "      <td>0.0</td>\n",
       "      <td>3</td>\n",
       "    </tr>\n",
       "  </tbody>\n",
       "</table>\n",
       "</div>"
      ],
      "text/plain": [
       "   Subject  Stimulus   Latency  Rise-Time  Amplitude  Events  Pleasantness\n",
       "0        1         1  2.980469   3.011719   0.197369     1.0             5\n",
       "1        1         2  1.886719   6.468750   0.911881     2.0             4\n",
       "2        1         3  2.085938   4.746094   0.273287     1.0             0\n",
       "3        1         4  1.699219   4.515625   0.618691    -2.0             5\n",
       "4        1         5  0.800781   3.437500   0.083031     0.0             3"
      ]
     },
     "execution_count": 2,
     "metadata": {},
     "output_type": "execute_result"
    }
   ],
   "source": [
    "data.head()"
   ]
  },
  {
   "cell_type": "markdown",
   "metadata": {},
   "source": [
    "## Data selection"
   ]
  },
  {
   "cell_type": "code",
   "execution_count": 3,
   "metadata": {},
   "outputs": [],
   "source": [
    "# we keep only relevant column\n",
    "df = data[['Subject', 'Latency', 'Rise-Time', 'Amplitude','Events', 'Pleasantness']].copy()"
   ]
  },
  {
   "cell_type": "code",
   "execution_count": 4,
   "metadata": {},
   "outputs": [],
   "source": [
    "# we keep only relevant row (remove nan)\n",
    "\n",
    "# The ratings are between 1 and 5.\n",
    "#If a pleasantness rating is equal to 0 then the participant has not scored.\n",
    "\n",
    "df = df.drop(list(df[df['Pleasantness']==0].index))\n",
    "\n",
    "# Suppression of columns with NaN.\n",
    "\n",
    "nan_cols = [i for i in df.columns if df[i].isnull().any()]\n",
    "for c in nan_cols :\n",
    "    df = df.drop(list(df[df[c].isnull()].index))\n"
   ]
  },
  {
   "cell_type": "markdown",
   "metadata": {},
   "source": [
    "## Discretization"
   ]
  },
  {
   "cell_type": "code",
   "execution_count": 5,
   "metadata": {},
   "outputs": [],
   "source": [
    "from sklearn.cluster import KMeans\n",
    "\n",
    "K = 2 #number of wanted clusters\n",
    "\n",
    "discrete_values = []\n",
    "\n",
    "for subject in set(data['Subject']):\n",
    "    ratings = df[df['Subject']==subject]['Pleasantness']\n",
    "    \n",
    "    #kmeans\n",
    "    x = [[e] for e in ratings]\n",
    "    kmeans = KMeans(n_clusters=K, random_state=0).fit(x)\n",
    "    sol = kmeans.predict(x)\n",
    "\n",
    "    #labeling\n",
    "    order = [x for _,x in sorted(zip(x,sol))]\n",
    "    order = [ii for n,ii in enumerate(order) if ii not in order[:n]]\n",
    "    d = {order[0]:'unpleasant', order[1]:'pleasant'}\n",
    "    discrete_values.append([d[x] for x in sol])\n",
    "\n",
    "#add new discrete values to the data\n",
    "df['Pleasantness_class'] = [item for sublist in discrete_values for item in sublist]"
   ]
  },
  {
   "cell_type": "code",
   "execution_count": 6,
   "metadata": {},
   "outputs": [
    {
     "data": {
      "text/html": [
       "<div>\n",
       "<style scoped>\n",
       "    .dataframe tbody tr th:only-of-type {\n",
       "        vertical-align: middle;\n",
       "    }\n",
       "\n",
       "    .dataframe tbody tr th {\n",
       "        vertical-align: top;\n",
       "    }\n",
       "\n",
       "    .dataframe thead th {\n",
       "        text-align: right;\n",
       "    }\n",
       "</style>\n",
       "<table border=\"1\" class=\"dataframe\">\n",
       "  <thead>\n",
       "    <tr style=\"text-align: right;\">\n",
       "      <th></th>\n",
       "      <th>Subject</th>\n",
       "      <th>Latency</th>\n",
       "      <th>Rise-Time</th>\n",
       "      <th>Amplitude</th>\n",
       "      <th>Events</th>\n",
       "      <th>Pleasantness</th>\n",
       "      <th>Pleasantness_class</th>\n",
       "    </tr>\n",
       "  </thead>\n",
       "  <tbody>\n",
       "    <tr>\n",
       "      <th>0</th>\n",
       "      <td>1</td>\n",
       "      <td>2.980469</td>\n",
       "      <td>3.011719</td>\n",
       "      <td>0.197369</td>\n",
       "      <td>1.0</td>\n",
       "      <td>5</td>\n",
       "      <td>pleasant</td>\n",
       "    </tr>\n",
       "    <tr>\n",
       "      <th>1</th>\n",
       "      <td>1</td>\n",
       "      <td>1.886719</td>\n",
       "      <td>6.468750</td>\n",
       "      <td>0.911881</td>\n",
       "      <td>2.0</td>\n",
       "      <td>4</td>\n",
       "      <td>unpleasant</td>\n",
       "    </tr>\n",
       "    <tr>\n",
       "      <th>3</th>\n",
       "      <td>1</td>\n",
       "      <td>1.699219</td>\n",
       "      <td>4.515625</td>\n",
       "      <td>0.618691</td>\n",
       "      <td>-2.0</td>\n",
       "      <td>5</td>\n",
       "      <td>pleasant</td>\n",
       "    </tr>\n",
       "    <tr>\n",
       "      <th>4</th>\n",
       "      <td>1</td>\n",
       "      <td>0.800781</td>\n",
       "      <td>3.437500</td>\n",
       "      <td>0.083031</td>\n",
       "      <td>0.0</td>\n",
       "      <td>3</td>\n",
       "      <td>unpleasant</td>\n",
       "    </tr>\n",
       "    <tr>\n",
       "      <th>5</th>\n",
       "      <td>1</td>\n",
       "      <td>0.000000</td>\n",
       "      <td>0.000000</td>\n",
       "      <td>0.000000</td>\n",
       "      <td>0.0</td>\n",
       "      <td>6</td>\n",
       "      <td>pleasant</td>\n",
       "    </tr>\n",
       "  </tbody>\n",
       "</table>\n",
       "</div>"
      ],
      "text/plain": [
       "   Subject   Latency  Rise-Time  Amplitude  Events  Pleasantness  \\\n",
       "0        1  2.980469   3.011719   0.197369     1.0             5   \n",
       "1        1  1.886719   6.468750   0.911881     2.0             4   \n",
       "3        1  1.699219   4.515625   0.618691    -2.0             5   \n",
       "4        1  0.800781   3.437500   0.083031     0.0             3   \n",
       "5        1  0.000000   0.000000   0.000000     0.0             6   \n",
       "\n",
       "  Pleasantness_class  \n",
       "0           pleasant  \n",
       "1         unpleasant  \n",
       "3           pleasant  \n",
       "4         unpleasant  \n",
       "5           pleasant  "
      ]
     },
     "execution_count": 6,
     "metadata": {},
     "output_type": "execute_result"
    }
   ],
   "source": [
    "df.head()"
   ]
  },
  {
   "cell_type": "markdown",
   "metadata": {},
   "source": [
    "## Results"
   ]
  },
  {
   "cell_type": "code",
   "execution_count": 7,
   "metadata": {},
   "outputs": [
    {
     "data": {
      "text/plain": [
       "Counter({'pleasant': 1130, 'unpleasant': 1148})"
      ]
     },
     "execution_count": 7,
     "metadata": {},
     "output_type": "execute_result"
    }
   ],
   "source": [
    "# Checking if the data is balanced\n",
    "import collections\n",
    "collections.Counter(df['Pleasantness_class'])\n",
    "\n",
    "#Almost as much \"pleasant\" element as \"unpleasant\"."
   ]
  },
  {
   "cell_type": "code",
   "execution_count": 8,
   "metadata": {},
   "outputs": [],
   "source": [
    "#data selection\n",
    "df = df[['Latency', 'Rise-Time', 'Amplitude','Events', 'Pleasantness_class']]\n",
    "\n",
    "#save in file\n",
    "df.to_csv('PsychophysioPreprocessed.csv', index=False, sep=',')"
   ]
  },
  {
   "cell_type": "code",
   "execution_count": 9,
   "metadata": {},
   "outputs": [
    {
     "data": {
      "text/html": [
       "<div>\n",
       "<style scoped>\n",
       "    .dataframe tbody tr th:only-of-type {\n",
       "        vertical-align: middle;\n",
       "    }\n",
       "\n",
       "    .dataframe tbody tr th {\n",
       "        vertical-align: top;\n",
       "    }\n",
       "\n",
       "    .dataframe thead th {\n",
       "        text-align: right;\n",
       "    }\n",
       "</style>\n",
       "<table border=\"1\" class=\"dataframe\">\n",
       "  <thead>\n",
       "    <tr style=\"text-align: right;\">\n",
       "      <th></th>\n",
       "      <th>Latency</th>\n",
       "      <th>Rise-Time</th>\n",
       "      <th>Amplitude</th>\n",
       "      <th>Events</th>\n",
       "      <th>Pleasantness_class</th>\n",
       "    </tr>\n",
       "  </thead>\n",
       "  <tbody>\n",
       "    <tr>\n",
       "      <th>0</th>\n",
       "      <td>2.980469</td>\n",
       "      <td>3.011719</td>\n",
       "      <td>0.197369</td>\n",
       "      <td>1.0</td>\n",
       "      <td>pleasant</td>\n",
       "    </tr>\n",
       "    <tr>\n",
       "      <th>1</th>\n",
       "      <td>1.886719</td>\n",
       "      <td>6.468750</td>\n",
       "      <td>0.911881</td>\n",
       "      <td>2.0</td>\n",
       "      <td>unpleasant</td>\n",
       "    </tr>\n",
       "    <tr>\n",
       "      <th>3</th>\n",
       "      <td>1.699219</td>\n",
       "      <td>4.515625</td>\n",
       "      <td>0.618691</td>\n",
       "      <td>-2.0</td>\n",
       "      <td>pleasant</td>\n",
       "    </tr>\n",
       "    <tr>\n",
       "      <th>4</th>\n",
       "      <td>0.800781</td>\n",
       "      <td>3.437500</td>\n",
       "      <td>0.083031</td>\n",
       "      <td>0.0</td>\n",
       "      <td>unpleasant</td>\n",
       "    </tr>\n",
       "    <tr>\n",
       "      <th>5</th>\n",
       "      <td>0.000000</td>\n",
       "      <td>0.000000</td>\n",
       "      <td>0.000000</td>\n",
       "      <td>0.0</td>\n",
       "      <td>pleasant</td>\n",
       "    </tr>\n",
       "  </tbody>\n",
       "</table>\n",
       "</div>"
      ],
      "text/plain": [
       "    Latency  Rise-Time  Amplitude  Events Pleasantness_class\n",
       "0  2.980469   3.011719   0.197369     1.0           pleasant\n",
       "1  1.886719   6.468750   0.911881     2.0         unpleasant\n",
       "3  1.699219   4.515625   0.618691    -2.0           pleasant\n",
       "4  0.800781   3.437500   0.083031     0.0         unpleasant\n",
       "5  0.000000   0.000000   0.000000     0.0           pleasant"
      ]
     },
     "execution_count": 9,
     "metadata": {},
     "output_type": "execute_result"
    }
   ],
   "source": [
    "df.head()"
   ]
  }
 ],
 "metadata": {
  "kernelspec": {
   "display_name": "Python 3",
   "language": "python",
   "name": "python3"
  },
  "language_info": {
   "codemirror_mode": {
    "name": "ipython",
    "version": 3
   },
   "file_extension": ".py",
   "mimetype": "text/x-python",
   "name": "python",
   "nbconvert_exporter": "python",
   "pygments_lexer": "ipython3",
   "version": "3.7.4"
  }
 },
 "nbformat": 4,
 "nbformat_minor": 2
}
